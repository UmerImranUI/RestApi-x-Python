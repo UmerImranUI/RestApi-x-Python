{
 "cells": [
  {
   "cell_type": "code",
   "execution_count": 15,
   "id": "6ea6310a",
   "metadata": {},
   "outputs": [],
   "source": [
    "from requests.api import head\n",
    "import requests\n",
    "import csv"
   ]
  },
  {
   "cell_type": "code",
   "execution_count": 4,
   "id": "217fd553",
   "metadata": {},
   "outputs": [],
   "source": [
    "url='http://api.coincap.io/v2/assets'"
   ]
  },
  {
   "cell_type": "code",
   "execution_count": 3,
   "id": "6354efc8",
   "metadata": {},
   "outputs": [],
   "source": [
    "headers={'Accept':'Application/json',\n",
    "    'Content-Type':'Application/json'}"
   ]
  },
  {
   "cell_type": "code",
   "execution_count": 7,
   "id": "2deff35f",
   "metadata": {},
   "outputs": [],
   "source": [
    "response=requests.request('GET',url,headers=headers,data={})"
   ]
  },
  {
   "cell_type": "code",
   "execution_count": 8,
   "id": "81589d61",
   "metadata": {},
   "outputs": [],
   "source": [
    "myjson=response.json()"
   ]
  },
  {
   "cell_type": "raw",
   "id": "7b0b6800",
   "metadata": {},
   "source": [
    "print(myjson)"
   ]
  },
  {
   "cell_type": "code",
   "execution_count": 10,
   "id": "244a5163",
   "metadata": {},
   "outputs": [],
   "source": [
    "ourdata=[]"
   ]
  },
  {
   "cell_type": "code",
   "execution_count": 11,
   "id": "58eabd50",
   "metadata": {},
   "outputs": [],
   "source": [
    "csvheader=['SYMBOL','NAME','PRICE(USD)']"
   ]
  },
  {
   "cell_type": "code",
   "execution_count": 12,
   "id": "2e9572c6",
   "metadata": {},
   "outputs": [],
   "source": [
    "for i in myjson['data']:\n",
    "    listing=[i['symbol'], i['name'], i['priceUsd']]\n",
    "    ourdata.append(listing)"
   ]
  },
  {
   "cell_type": "code",
   "execution_count": 13,
   "id": "96750ff5",
   "metadata": {},
   "outputs": [
    {
     "name": "stdout",
     "output_type": "stream",
     "text": [
      "[['BTC', 'Bitcoin', '21266.9087055925338509'], ['ETH', 'Ethereum', '1580.9146707146711118'], ['USDT', 'Tether', '0.9994554020543921'], ['BNB', 'BNB', '301.3261106975090852'], ['USDC', 'USD Coin', '0.9992723173410001'], ['XRP', 'XRP', '0.3872937799444782'], ['BUSD', 'Binance USD', '0.9994284091560535'], ['ADA', 'Cardano', '0.3503183962896433'], ['DOGE', 'Dogecoin', '0.0869940858052079'], ['MATIC', 'Polygon', '1.0046101558443133'], ['SOL', 'Solana', '22.9369352421106182'], ['DOT', 'Polkadot', '6.0043457262436259'], ['LUNA', 'Terra', '2.0496638476629246'], ['SHIB', 'Shiba Inu', '0.0000124158733453'], ['LTC', 'Litecoin', '87.3705072493859832'], ['DAI', 'Multi Collateral DAI', '0.9992377157361407'], ['TRX', 'TRON', '0.0620916538465825'], ['AVAX', 'Avalanche', '17.1424660057427550'], ['UNI', 'Uniswap', '6.4433032466721014'], ['WBTC', 'Wrapped Bitcoin', '21255.9196924155927352'], ['LINK', 'Chainlink', '6.8398289854831400'], ['LEO', 'UNUS SED LEO', '3.4579239830854122'], ['XMR', 'Monero', '173.7722918632640451'], ['ETC', 'Ethereum Classic', '22.0835788383446299'], ['ATOM', 'Cosmos', '12.3022025977383855'], ['BCH', 'Bitcoin Cash', '125.3774766678903863'], ['XLM', 'Stellar', '0.0879126295289941'], ['OKB', 'OKB', '32.7751655126498981'], ['CRO', 'Crypto.com Coin', '0.0777109849134750'], ['NEAR', 'NEAR Protocol', '2.1507057179628423'], ['QNT', 'Quant', '141.9625220715163172'], ['FIL', 'Filecoin', '4.6389833415496604'], ['LDO', 'Lido DAO', '2.0497875494922558'], ['ALGO', 'Algorand', '0.2294016758725322'], ['ICP', 'Internet Computer', '5.5050052602562049'], ['VET', 'VeChain', '0.0212617835846529'], ['MANA', 'Decentraland', '0.6877930163406052'], ['AAVE', 'Aave', '83.9857486041598889'], ['BTCB', 'Bitcoin BEP2', '21276.8719941469219936'], ['EOS', 'EOS', '1.0325701774244064'], ['FLOW', 'Flow', '1.0623416909750848'], ['SAND', 'The Sandbox', '0.7195598347157404'], ['FRAX', 'Frax', '0.9951808782728831'], ['EGLD', 'MultiversX', '41.8738201768937331'], ['THETA', 'THETA', '0.9482215399996705'], ['XTZ', 'Tezos', '1.0157263207083019'], ['FTM', 'Fantom', '0.3286896389939150'], ['CHZ', 'Chiliz', '0.1365276620682923'], ['AXS', 'Axie Infinity', '8.7655181053623968'], ['BSV', 'Bitcoin SV', '44.6122898125885101'], ['TUSD', 'TrueUSD', '0.9998526709300989'], ['HBAR', 'Hedera Hashgraph', '0.0551542328801938'], ['HT', 'Huobi Token', '4.9448605570111874'], ['KCS', 'KuCoin Token', '7.8440482460720199'], ['ZEC', 'Zcash', '45.0975400250360512'], ['GRT', 'The Graph', '0.0804982554590540'], ['MKR', 'Maker', '704.8300738691829038'], ['FTT', 'FTX Token', '1.9728275165800095'], ['TWT', 'Trust Wallet Token', '1.5420309076437905'], ['FXS', 'Frax Share', '8.7934817541021607'], ['CAKE', 'PancakeSwap', '3.7419688254118306'], ['MIOTA', 'IOTA', '0.2164606522921962'], ['XEC', 'eCash', '0.0000311694555846'], ['KLAY', 'Klaytn', '0.1909469683146831'], ['RUNE', 'THORChain', '1.7280844623030914'], ['DASH', 'Dash', '50.0921694604414730'], ['NEO', 'Neo', '7.7774982986628094'], ['SNX', 'Synthetix', '2.2296781037248275'], ['CRV', 'Curve DAO Token', '0.9457773133000307'], ['MINA', 'Mina', '0.5610046047738666'], ['HNT', 'Helium', '3.1398644884152633'], ['ZIL', 'Zilliqa', '0.0268454935211590'], ['NEXO', 'Nexo', '0.7565540718923327'], ['FEI', 'Fei Protocol', '0.9936599970506281'], ['CSPR', 'Casper', '0.0390786180349930'], ['RPL', 'Rocket Pool', '40.4237844488255767'], ['GT', 'GateToken', '3.7929365852300386'], ['1INCH', '1inch Network', '0.4791014815944090'], ['CVX', 'Convex Finance', '5.0883573709409530'], ['COMP', 'Compound', '51.3257894639866269'], ['LRC', 'Loopring', '0.2792682898729631'], ['KAVA', 'Kava', '0.9653287430600224'], ['ENJ', 'Enjin Coin', '0.3668313713218093'], ['STX', 'Stacks', '0.2674778313904338'], ['BAT', 'Basic Attention Token', '0.2334246298589628'], ['GALA', 'Gala', '0.0495728683368660'], ['HOT', 'Holo', '0.0019897962233406'], ['XEM', 'NEM', '0.0368406866631977'], ['XDC', 'XinFin Network', '0.0267661623123881'], ['CELO', 'Celo', '0.6786022714946992'], ['DCR', 'Decred', '21.8863222992922347'], ['BAL', 'Balancer', '6.6954329065295799'], ['AR', 'Arweave', '9.2792996122306844'], ['WOO', 'WOO Network', '0.1885468858913638'], ['RVN', 'Ravencoin', '0.0245010053127744'], ['KSM', 'Kusama', '34.8373679274577771'], ['BTG', 'Bitcoin Gold', '16.6431362299443152'], ['SUSHI', 'SushiSwap', '1.2599162444599976'], ['ROSE', 'Oasis Network', '0.0480124476138249'], ['GNO', 'Gnosis', '105.9546816257915843']]\n"
     ]
    }
   ],
   "source": [
    "print(ourdata)"
   ]
  },
  {
   "cell_type": "code",
   "execution_count": 16,
   "id": "038ecd17",
   "metadata": {},
   "outputs": [
    {
     "name": "stdout",
     "output_type": "stream",
     "text": [
      "done\n"
     ]
    }
   ],
   "source": [
    "with open('crypto.csv','w',encoding='UTF-8', newline='') as f:\n",
    "    writer=csv.writer(f)\n",
    "    writer.writerow(csvheader)\n",
    "    writer.writerows(ourdata)\n",
    "    \n",
    "print('done')"
   ]
  },
  {
   "cell_type": "code",
   "execution_count": null,
   "id": "035bd26e",
   "metadata": {},
   "outputs": [],
   "source": []
  }
 ],
 "metadata": {
  "kernelspec": {
   "display_name": "Python 3 (ipykernel)",
   "language": "python",
   "name": "python3"
  },
  "language_info": {
   "codemirror_mode": {
    "name": "ipython",
    "version": 3
   },
   "file_extension": ".py",
   "mimetype": "text/x-python",
   "name": "python",
   "nbconvert_exporter": "python",
   "pygments_lexer": "ipython3",
   "version": "3.9.12"
  }
 },
 "nbformat": 4,
 "nbformat_minor": 5
}
