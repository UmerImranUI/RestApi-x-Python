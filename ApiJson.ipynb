{
 "cells": [
  {
   "cell_type": "code",
   "execution_count": 1,
   "id": "8818f38d",
   "metadata": {},
   "outputs": [],
   "source": [
    "import requests"
   ]
  },
  {
   "cell_type": "code",
   "execution_count": 8,
   "id": "64f4a8ea",
   "metadata": {},
   "outputs": [],
   "source": [
    "response=requests.get('https://randomuser.me/api')"
   ]
  },
  {
   "cell_type": "code",
   "execution_count": 9,
   "id": "a47260eb",
   "metadata": {},
   "outputs": [
    {
     "data": {
      "text/plain": [
       "200"
      ]
     },
     "execution_count": 9,
     "metadata": {},
     "output_type": "execute_result"
    }
   ],
   "source": [
    "response.status_code"
   ]
  },
  {
   "cell_type": "code",
   "execution_count": 13,
   "id": "9d135d65",
   "metadata": {},
   "outputs": [
    {
     "name": "stdout",
     "output_type": "stream",
     "text": [
      "{\"results\":[{\"gender\":\"male\",\"name\":{\"title\":\"Mr\",\"first\":\"Earl\",\"last\":\"Nguyen\"},\"location\":{\"street\":{\"number\":8103,\"name\":\"Cork Street\"},\"city\":\"Cork\",\"state\":\"Dún Laoghaire–Rathdown\",\"country\":\"Ireland\",\"postcode\":58827,\"coordinates\":{\"latitude\":\"3.8570\",\"longitude\":\"-62.6387\"},\"timezone\":{\"offset\":\"-8:00\",\"description\":\"Pacific Time (US & Canada)\"}},\"email\":\"earl.nguyen@example.com\",\"login\":{\"uuid\":\"4a2c1438-a4ce-4f49-a78d-bb3510e84ce5\",\"username\":\"orangeswan743\",\"password\":\"joey\",\"salt\":\"NrX50tMj\",\"md5\":\"7cc51e1db0788a5bf06254c8446e0edd\",\"sha1\":\"3486804ce103e6a80b5e8f6cf034dc0ca9b0a22c\",\"sha256\":\"58e3655a4aaa0c3b4202257493361edbed581a5fd80773cd87e7ced2292495a7\"},\"dob\":{\"date\":\"1984-08-12T02:29:41.282Z\",\"age\":38},\"registered\":{\"date\":\"2006-12-02T16:38:37.545Z\",\"age\":16},\"phone\":\"011-085-3893\",\"cell\":\"081-130-2108\",\"id\":{\"name\":\"PPS\",\"value\":\"5654415T\"},\"picture\":{\"large\":\"https://randomuser.me/api/portraits/men/33.jpg\",\"medium\":\"https://randomuser.me/api/portraits/med/men/33.jpg\",\"thumbnail\":\"https://randomuser.me/api/portraits/thumb/men/33.jpg\"},\"nat\":\"IE\"}],\"info\":{\"seed\":\"7fa6a076e999f24b\",\"results\":1,\"page\":1,\"version\":\"1.4\"}}\n"
     ]
    }
   ],
   "source": [
    "print(response.text)"
   ]
  },
  {
   "cell_type": "code",
   "execution_count": 14,
   "id": "c2ea1f10",
   "metadata": {},
   "outputs": [
    {
     "name": "stdout",
     "output_type": "stream",
     "text": [
      "{'results': [{'gender': 'male', 'name': {'title': 'Mr', 'first': 'Earl', 'last': 'Nguyen'}, 'location': {'street': {'number': 8103, 'name': 'Cork Street'}, 'city': 'Cork', 'state': 'Dún Laoghaire–Rathdown', 'country': 'Ireland', 'postcode': 58827, 'coordinates': {'latitude': '3.8570', 'longitude': '-62.6387'}, 'timezone': {'offset': '-8:00', 'description': 'Pacific Time (US & Canada)'}}, 'email': 'earl.nguyen@example.com', 'login': {'uuid': '4a2c1438-a4ce-4f49-a78d-bb3510e84ce5', 'username': 'orangeswan743', 'password': 'joey', 'salt': 'NrX50tMj', 'md5': '7cc51e1db0788a5bf06254c8446e0edd', 'sha1': '3486804ce103e6a80b5e8f6cf034dc0ca9b0a22c', 'sha256': '58e3655a4aaa0c3b4202257493361edbed581a5fd80773cd87e7ced2292495a7'}, 'dob': {'date': '1984-08-12T02:29:41.282Z', 'age': 38}, 'registered': {'date': '2006-12-02T16:38:37.545Z', 'age': 16}, 'phone': '011-085-3893', 'cell': '081-130-2108', 'id': {'name': 'PPS', 'value': '5654415T'}, 'picture': {'large': 'https://randomuser.me/api/portraits/men/33.jpg', 'medium': 'https://randomuser.me/api/portraits/med/men/33.jpg', 'thumbnail': 'https://randomuser.me/api/portraits/thumb/men/33.jpg'}, 'nat': 'IE'}], 'info': {'seed': '7fa6a076e999f24b', 'results': 1, 'page': 1, 'version': '1.4'}}\n"
     ]
    }
   ],
   "source": [
    "print(response.json())"
   ]
  },
  {
   "cell_type": "code",
   "execution_count": 25,
   "id": "efd70bf9",
   "metadata": {},
   "outputs": [],
   "source": [
    "gender=response.json()['results'][0]['gender']\n",
    "title=response.json()['results'][0]['name']['title']\n",
    "age=response.json()['results'][0]['dob']['age']\n"
   ]
  },
  {
   "cell_type": "code",
   "execution_count": 16,
   "id": "9b1f48b4",
   "metadata": {},
   "outputs": [
    {
     "name": "stdout",
     "output_type": "stream",
     "text": [
      "male\n"
     ]
    }
   ],
   "source": [
    "print(gender)"
   ]
  },
  {
   "cell_type": "code",
   "execution_count": 19,
   "id": "c42548e5",
   "metadata": {},
   "outputs": [],
   "source": [
    "firstName=response.json()['results'][0]['name']['first']\n",
    "lastName=response.json()['results'][0]['name']['last']"
   ]
  },
  {
   "cell_type": "code",
   "execution_count": 18,
   "id": "1fad34e5",
   "metadata": {},
   "outputs": [
    {
     "name": "stdout",
     "output_type": "stream",
     "text": [
      "Earl\n"
     ]
    }
   ],
   "source": [
    "print(firstName)"
   ]
  },
  {
   "cell_type": "code",
   "execution_count": 26,
   "id": "5241bf35",
   "metadata": {},
   "outputs": [
    {
     "name": "stdout",
     "output_type": "stream",
     "text": [
      " name is Mr. Earl Nguyen and age is 38\n"
     ]
    }
   ],
   "source": [
    "print(f' name is {title}. {firstName} {lastName} and age is {age}')"
   ]
  },
  {
   "cell_type": "code",
   "execution_count": null,
   "id": "14e1fe62",
   "metadata": {},
   "outputs": [],
   "source": []
  }
 ],
 "metadata": {
  "kernelspec": {
   "display_name": "Python 3 (ipykernel)",
   "language": "python",
   "name": "python3"
  },
  "language_info": {
   "codemirror_mode": {
    "name": "ipython",
    "version": 3
   },
   "file_extension": ".py",
   "mimetype": "text/x-python",
   "name": "python",
   "nbconvert_exporter": "python",
   "pygments_lexer": "ipython3",
   "version": "3.9.12"
  }
 },
 "nbformat": 4,
 "nbformat_minor": 5
}
