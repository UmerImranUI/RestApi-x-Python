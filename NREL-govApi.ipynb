{
 "cells": [
  {
   "cell_type": "code",
   "execution_count": 17,
   "id": "bc543af7",
   "metadata": {},
   "outputs": [],
   "source": [
    "import requests, csv, pandas, json"
   ]
  },
  {
   "cell_type": "code",
   "execution_count": 3,
   "id": "64c22c87",
   "metadata": {},
   "outputs": [],
   "source": [
    "result=requests.get('https://developer.nrel.gov/api/alt-fuel-stations/v1.json?fuel_type=E85,ELEC&state=CA&limit=2&api_key=KsKcpDXSfkGehqvYcZ0tODsBuysGh2bk6NJCOvxG')"
   ]
  },
  {
   "cell_type": "code",
   "execution_count": 4,
   "id": "14afb1a2",
   "metadata": {},
   "outputs": [
    {
     "data": {
      "text/plain": [
       "200"
      ]
     },
     "execution_count": 4,
     "metadata": {},
     "output_type": "execute_result"
    }
   ],
   "source": [
    "result.status_code"
   ]
  },
  {
   "cell_type": "code",
   "execution_count": 5,
   "id": "f342aaaf",
   "metadata": {},
   "outputs": [
    {
     "data": {
      "text/plain": [
       "'{\"station_locator_url\":\"https://afdc.energy.gov/stations/\",\"total_results\":16160,\"station_counts\":{\"total\":46219,\"fuels\":{\"BD\":{\"total\":0},\"E85\":{\"total\":318},\"ELEC\":{\"total\":45901,\"stations\":{\"total\":15842}},\"HY\":{\"total\":0},\"LNG\":{\"total\":0},\"CNG\":{\"total\":0},\"LPG\":{\"total\":0}}},\"fuel_stations\":[{\"access_code\":\"private\",\"access_days_time\":\"Fleet use only\",\"access_detail_code\":null,\"cards_accepted\":null,\"date_last_confirmed\":\"2023-01-10\",\"expected_date\":null,\"fuel_type_code\":\"ELEC\",\"groups_with_access_code\":\"Private\",\"id\":1517,\"open_date\":\"1999-10-15\",\"owner_type_code\":\"LG\",\"status_code\":\"E\",\"restricted_access\":null,\"station_name\":\"LADWP - Truesdale Center\",\"station_phone\":null,\"updated_at\":\"2023-01-10T16:44:47Z\",\"facility_type\":\"UTILITY\",\"geocode_status\":\"GPS\",\"latitude\":34.2483191527193,\"longitude\":-118.3879713743439,\"city\":\"Sun Valley\",\"intersection_directions\":null,\"plus4\":null,\"state\":\"CA\",\"street_address\":\"11797 Truesdale St\",\"zip\":\"91352\",\"country\":\"US\",\"bd_blends\":null,\"cng_dispenser_num\":null,\"cng_fill_type_code\":null,\"cng_psi\":null,\"cng_renewable_source\":null,\"cng_total_compression\":null,\"cng_total_storage\":null,\"cng_vehicle_class\":null,\"e85_blender_pump\":null,\"e85_other_ethanol_blends\":null,\"ev_connector_types\":[\"CHADEMO\",\"J1772\",\"J1772COMBO\"],\"ev_dc_fast_num\":3,\"ev_level1_evse_num\":null,\"ev_level2_evse_num\":39,\"ev_network\":\"Non-Networked\",\"ev_network_web\":null,\"ev_other_evse\":null,\"ev_pricing\":null,\"ev_renewable_source\":null,\"hy_is_retail\":null,\"hy_pressures\":null,\"hy_standards\":null,\"hy_status_link\":null,\"lng_renewable_source\":null,\"lng_vehicle_class\":null,\"lpg_primary\":null,\"lpg_nozzle_types\":null,\"ng_fill_type_code\":null,\"ng_psi\":null,\"ng_vehicle_class\":null,\"access_days_time_fr\":null,\"intersection_directions_fr\":null,\"bd_blends_fr\":null,\"groups_with_access_code_fr\":\"Privé\",\"ev_pricing_fr\":null},{\"access_code\":\"private\",\"access_days_time\":null,\"access_detail_code\":null,\"cards_accepted\":null,\"date_last_confirmed\":\"2023-01-10\",\"expected_date\":null,\"fuel_type_code\":\"ELEC\",\"groups_with_access_code\":\"Private\",\"id\":1519,\"open_date\":\"2020-02-28\",\"owner_type_code\":\"LG\",\"status_code\":\"E\",\"restricted_access\":null,\"station_name\":\"LADWP - West LA District Office\",\"station_phone\":null,\"updated_at\":\"2023-01-10T16:44:47Z\",\"facility_type\":\"UTILITY\",\"geocode_status\":\"200-8\",\"latitude\":34.052542,\"longitude\":-118.448504,\"city\":\"Los Angeles\",\"intersection_directions\":null,\"plus4\":null,\"state\":\"CA\",\"street_address\":\"1394 S Sepulveda Blvd\",\"zip\":\"90024\",\"country\":\"US\",\"bd_blends\":null,\"cng_dispenser_num\":null,\"cng_fill_type_code\":null,\"cng_psi\":null,\"cng_renewable_source\":null,\"cng_total_compression\":null,\"cng_total_storage\":null,\"cng_vehicle_class\":null,\"e85_blender_pump\":null,\"e85_other_ethanol_blends\":null,\"ev_connector_types\":[\"J1772\"],\"ev_dc_fast_num\":null,\"ev_level1_evse_num\":null,\"ev_level2_evse_num\":4,\"ev_network\":\"Non-Networked\",\"ev_network_web\":null,\"ev_other_evse\":null,\"ev_pricing\":\"Free\",\"ev_renewable_source\":null,\"hy_is_retail\":null,\"hy_pressures\":null,\"hy_standards\":null,\"hy_status_link\":null,\"lng_renewable_source\":null,\"lng_vehicle_class\":null,\"lpg_primary\":null,\"lpg_nozzle_types\":null,\"ng_fill_type_code\":null,\"ng_psi\":null,\"ng_vehicle_class\":null,\"access_days_time_fr\":null,\"intersection_directions_fr\":null,\"bd_blends_fr\":null,\"groups_with_access_code_fr\":\"Privé\",\"ev_pricing_fr\":null}]}'"
      ]
     },
     "execution_count": 5,
     "metadata": {},
     "output_type": "execute_result"
    }
   ],
   "source": [
    "result.text"
   ]
  },
  {
   "cell_type": "code",
   "execution_count": 16,
   "id": "894ac963",
   "metadata": {},
   "outputs": [
    {
     "name": "stdout",
     "output_type": "stream",
     "text": [
      "{'station_locator_url': 'https://afdc.energy.gov/stations/', 'total_results': 16160, 'station_counts': {'total': 46219, 'fuels': {'BD': {'total': 0}, 'E85': {'total': 318}, 'ELEC': {'total': 45901, 'stations': {'total': 15842}}, 'HY': {'total': 0}, 'LNG': {'total': 0}, 'CNG': {'total': 0}, 'LPG': {'total': 0}}}, 'fuel_stations': [{'access_code': 'private', 'access_days_time': 'Fleet use only', 'access_detail_code': None, 'cards_accepted': None, 'date_last_confirmed': '2023-01-10', 'expected_date': None, 'fuel_type_code': 'ELEC', 'groups_with_access_code': 'Private', 'id': 1517, 'open_date': '1999-10-15', 'owner_type_code': 'LG', 'status_code': 'E', 'restricted_access': None, 'station_name': 'LADWP - Truesdale Center', 'station_phone': None, 'updated_at': '2023-01-10T16:44:47Z', 'facility_type': 'UTILITY', 'geocode_status': 'GPS', 'latitude': 34.2483191527193, 'longitude': -118.3879713743439, 'city': 'Sun Valley', 'intersection_directions': None, 'plus4': None, 'state': 'CA', 'street_address': '11797 Truesdale St', 'zip': '91352', 'country': 'US', 'bd_blends': None, 'cng_dispenser_num': None, 'cng_fill_type_code': None, 'cng_psi': None, 'cng_renewable_source': None, 'cng_total_compression': None, 'cng_total_storage': None, 'cng_vehicle_class': None, 'e85_blender_pump': None, 'e85_other_ethanol_blends': None, 'ev_connector_types': ['CHADEMO', 'J1772', 'J1772COMBO'], 'ev_dc_fast_num': 3, 'ev_level1_evse_num': None, 'ev_level2_evse_num': 39, 'ev_network': 'Non-Networked', 'ev_network_web': None, 'ev_other_evse': None, 'ev_pricing': None, 'ev_renewable_source': None, 'hy_is_retail': None, 'hy_pressures': None, 'hy_standards': None, 'hy_status_link': None, 'lng_renewable_source': None, 'lng_vehicle_class': None, 'lpg_primary': None, 'lpg_nozzle_types': None, 'ng_fill_type_code': None, 'ng_psi': None, 'ng_vehicle_class': None, 'access_days_time_fr': None, 'intersection_directions_fr': None, 'bd_blends_fr': None, 'groups_with_access_code_fr': 'Privé', 'ev_pricing_fr': None}, {'access_code': 'private', 'access_days_time': None, 'access_detail_code': None, 'cards_accepted': None, 'date_last_confirmed': '2023-01-10', 'expected_date': None, 'fuel_type_code': 'ELEC', 'groups_with_access_code': 'Private', 'id': 1519, 'open_date': '2020-02-28', 'owner_type_code': 'LG', 'status_code': 'E', 'restricted_access': None, 'station_name': 'LADWP - West LA District Office', 'station_phone': None, 'updated_at': '2023-01-10T16:44:47Z', 'facility_type': 'UTILITY', 'geocode_status': '200-8', 'latitude': 34.052542, 'longitude': -118.448504, 'city': 'Los Angeles', 'intersection_directions': None, 'plus4': None, 'state': 'CA', 'street_address': '1394 S Sepulveda Blvd', 'zip': '90024', 'country': 'US', 'bd_blends': None, 'cng_dispenser_num': None, 'cng_fill_type_code': None, 'cng_psi': None, 'cng_renewable_source': None, 'cng_total_compression': None, 'cng_total_storage': None, 'cng_vehicle_class': None, 'e85_blender_pump': None, 'e85_other_ethanol_blends': None, 'ev_connector_types': ['J1772'], 'ev_dc_fast_num': None, 'ev_level1_evse_num': None, 'ev_level2_evse_num': 4, 'ev_network': 'Non-Networked', 'ev_network_web': None, 'ev_other_evse': None, 'ev_pricing': 'Free', 'ev_renewable_source': None, 'hy_is_retail': None, 'hy_pressures': None, 'hy_standards': None, 'hy_status_link': None, 'lng_renewable_source': None, 'lng_vehicle_class': None, 'lpg_primary': None, 'lpg_nozzle_types': None, 'ng_fill_type_code': None, 'ng_psi': None, 'ng_vehicle_class': None, 'access_days_time_fr': None, 'intersection_directions_fr': None, 'bd_blends_fr': None, 'groups_with_access_code_fr': 'Privé', 'ev_pricing_fr': None}]}\n"
     ]
    }
   ],
   "source": [
    "df=result.json()\n",
    "print(df)"
   ]
  },
  {
   "cell_type": "code",
   "execution_count": 18,
   "id": "9989af4a",
   "metadata": {},
   "outputs": [],
   "source": [
    "with open('personal.json', 'r') as json_file:\n",
    "    json.dump(df, json_file)"
   ]
  },
  {
   "cell_type": "code",
   "execution_count": 23,
   "id": "af528d08",
   "metadata": {},
   "outputs": [
    {
     "name": "stdout",
     "output_type": "stream",
     "text": [
      "{'station_locator_url': 'https://afdc.energy.gov/stations/', 'total_results': 16160, 'station_counts': {'total': 46219, 'fuels': {'BD': {'total': 0}, 'E85': {'total': 318}, 'ELEC': {'total': 45901, 'stations': {'total': 15842}}, 'HY': {'total': 0}, 'LNG': {'total': 0}, 'CNG': {'total': 0}, 'LPG': {'total': 0}}}, 'fuel_stations': [{'access_code': 'private', 'access_days_time': 'Fleet use only', 'access_detail_code': None, 'cards_accepted': None, 'date_last_confirmed': '2023-01-10', 'expected_date': None, 'fuel_type_code': 'ELEC', 'groups_with_access_code': 'Private', 'id': 1517, 'open_date': '1999-10-15', 'owner_type_code': 'LG', 'status_code': 'E', 'restricted_access': None, 'station_name': 'LADWP - Truesdale Center', 'station_phone': None, 'updated_at': '2023-01-10T16:44:47Z', 'facility_type': 'UTILITY', 'geocode_status': 'GPS', 'latitude': 34.2483191527193, 'longitude': -118.3879713743439, 'city': 'Sun Valley', 'intersection_directions': None, 'plus4': None, 'state': 'CA', 'street_address': '11797 Truesdale St', 'zip': '91352', 'country': 'US', 'bd_blends': None, 'cng_dispenser_num': None, 'cng_fill_type_code': None, 'cng_psi': None, 'cng_renewable_source': None, 'cng_total_compression': None, 'cng_total_storage': None, 'cng_vehicle_class': None, 'e85_blender_pump': None, 'e85_other_ethanol_blends': None, 'ev_connector_types': ['CHADEMO', 'J1772', 'J1772COMBO'], 'ev_dc_fast_num': 3, 'ev_level1_evse_num': None, 'ev_level2_evse_num': 39, 'ev_network': 'Non-Networked', 'ev_network_web': None, 'ev_other_evse': None, 'ev_pricing': None, 'ev_renewable_source': None, 'hy_is_retail': None, 'hy_pressures': None, 'hy_standards': None, 'hy_status_link': None, 'lng_renewable_source': None, 'lng_vehicle_class': None, 'lpg_primary': None, 'lpg_nozzle_types': None, 'ng_fill_type_code': None, 'ng_psi': None, 'ng_vehicle_class': None, 'access_days_time_fr': None, 'intersection_directions_fr': None, 'bd_blends_fr': None, 'groups_with_access_code_fr': 'Privé', 'ev_pricing_fr': None}, {'access_code': 'private', 'access_days_time': None, 'access_detail_code': None, 'cards_accepted': None, 'date_last_confirmed': '2023-01-10', 'expected_date': None, 'fuel_type_code': 'ELEC', 'groups_with_access_code': 'Private', 'id': 1519, 'open_date': '2020-02-28', 'owner_type_code': 'LG', 'status_code': 'E', 'restricted_access': None, 'station_name': 'LADWP - West LA District Office', 'station_phone': None, 'updated_at': '2023-01-10T16:44:47Z', 'facility_type': 'UTILITY', 'geocode_status': '200-8', 'latitude': 34.052542, 'longitude': -118.448504, 'city': 'Los Angeles', 'intersection_directions': None, 'plus4': None, 'state': 'CA', 'street_address': '1394 S Sepulveda Blvd', 'zip': '90024', 'country': 'US', 'bd_blends': None, 'cng_dispenser_num': None, 'cng_fill_type_code': None, 'cng_psi': None, 'cng_renewable_source': None, 'cng_total_compression': None, 'cng_total_storage': None, 'cng_vehicle_class': None, 'e85_blender_pump': None, 'e85_other_ethanol_blends': None, 'ev_connector_types': ['J1772'], 'ev_dc_fast_num': None, 'ev_level1_evse_num': None, 'ev_level2_evse_num': 4, 'ev_network': 'Non-Networked', 'ev_network_web': None, 'ev_other_evse': None, 'ev_pricing': 'Free', 'ev_renewable_source': None, 'hy_is_retail': None, 'hy_pressures': None, 'hy_standards': None, 'hy_status_link': None, 'lng_renewable_source': None, 'lng_vehicle_class': None, 'lpg_primary': None, 'lpg_nozzle_types': None, 'ng_fill_type_code': None, 'ng_psi': None, 'ng_vehicle_class': None, 'access_days_time_fr': None, 'intersection_directions_fr': None, 'bd_blends_fr': None, 'groups_with_access_code_fr': 'Privé', 'ev_pricing_fr': None}]}\n"
     ]
    }
   ],
   "source": [
    "\n",
    "# Python program to read\n",
    "# json file\n",
    "  \n",
    "  \n",
    "import json\n",
    "  \n",
    "# Opening JSON file\n",
    "f = open('personal.json')\n",
    "  \n",
    "# returns JSON object as \n",
    "# a dictionary\n",
    "data = json.load(f)\n",
    "  \n",
    "# Iterating through the json\n",
    "# list\n",
    "print(data)\n",
    "  \n",
    "# Closing file\n",
    "f.close()"
   ]
  },
  {
   "cell_type": "code",
   "execution_count": null,
   "id": "d8c90299",
   "metadata": {},
   "outputs": [],
   "source": []
  }
 ],
 "metadata": {
  "kernelspec": {
   "display_name": "Python 3 (ipykernel)",
   "language": "python",
   "name": "python3"
  },
  "language_info": {
   "codemirror_mode": {
    "name": "ipython",
    "version": 3
   },
   "file_extension": ".py",
   "mimetype": "text/x-python",
   "name": "python",
   "nbconvert_exporter": "python",
   "pygments_lexer": "ipython3",
   "version": "3.9.12"
  }
 },
 "nbformat": 4,
 "nbformat_minor": 5
}
